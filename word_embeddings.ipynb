{
  "nbformat": 4,
  "nbformat_minor": 0,
  "metadata": {
    "colab": {
      "provenance": [],
      "gpuType": "T4",
      "authorship_tag": "ABX9TyOln9Mbkq8Y4AMlYmT75LHI",
      "include_colab_link": true
    },
    "kernelspec": {
      "name": "python3",
      "display_name": "Python 3"
    },
    "language_info": {
      "name": "python"
    },
    "accelerator": "GPU"
  },
  "cells": [
    {
      "cell_type": "markdown",
      "metadata": {
        "id": "view-in-github",
        "colab_type": "text"
      },
      "source": [
        "<a href=\"https://colab.research.google.com/github/Sreelakshmiml/Natural-language-processing/blob/main/word_embeddings.ipynb\" target=\"_parent\"><img src=\"https://colab.research.google.com/assets/colab-badge.svg\" alt=\"Open In Colab\"/></a>"
      ]
    },
    {
      "cell_type": "code",
      "source": [
        "!pip install tensorflow"
      ],
      "metadata": {
        "colab": {
          "base_uri": "https://localhost:8080/"
        },
        "id": "Yxieagf86Bv1",
        "outputId": "77350c7e-82cd-4505-c5eb-9cb6e8df004d"
      },
      "execution_count": null,
      "outputs": [
        {
          "output_type": "stream",
          "name": "stdout",
          "text": [
            "Requirement already satisfied: tensorflow in /usr/local/lib/python3.10/dist-packages (2.15.0)\n",
            "Requirement already satisfied: absl-py>=1.0.0 in /usr/local/lib/python3.10/dist-packages (from tensorflow) (1.4.0)\n",
            "Requirement already satisfied: astunparse>=1.6.0 in /usr/local/lib/python3.10/dist-packages (from tensorflow) (1.6.3)\n",
            "Requirement already satisfied: flatbuffers>=23.5.26 in /usr/local/lib/python3.10/dist-packages (from tensorflow) (23.5.26)\n",
            "Requirement already satisfied: gast!=0.5.0,!=0.5.1,!=0.5.2,>=0.2.1 in /usr/local/lib/python3.10/dist-packages (from tensorflow) (0.5.4)\n",
            "Requirement already satisfied: google-pasta>=0.1.1 in /usr/local/lib/python3.10/dist-packages (from tensorflow) (0.2.0)\n",
            "Requirement already satisfied: h5py>=2.9.0 in /usr/local/lib/python3.10/dist-packages (from tensorflow) (3.9.0)\n",
            "Requirement already satisfied: libclang>=13.0.0 in /usr/local/lib/python3.10/dist-packages (from tensorflow) (16.0.6)\n",
            "Requirement already satisfied: ml-dtypes~=0.2.0 in /usr/local/lib/python3.10/dist-packages (from tensorflow) (0.2.0)\n",
            "Requirement already satisfied: numpy<2.0.0,>=1.23.5 in /usr/local/lib/python3.10/dist-packages (from tensorflow) (1.23.5)\n",
            "Requirement already satisfied: opt-einsum>=2.3.2 in /usr/local/lib/python3.10/dist-packages (from tensorflow) (3.3.0)\n",
            "Requirement already satisfied: packaging in /usr/local/lib/python3.10/dist-packages (from tensorflow) (23.2)\n",
            "Requirement already satisfied: protobuf!=4.21.0,!=4.21.1,!=4.21.2,!=4.21.3,!=4.21.4,!=4.21.5,<5.0.0dev,>=3.20.3 in /usr/local/lib/python3.10/dist-packages (from tensorflow) (3.20.3)\n",
            "Requirement already satisfied: setuptools in /usr/local/lib/python3.10/dist-packages (from tensorflow) (67.7.2)\n",
            "Requirement already satisfied: six>=1.12.0 in /usr/local/lib/python3.10/dist-packages (from tensorflow) (1.16.0)\n",
            "Requirement already satisfied: termcolor>=1.1.0 in /usr/local/lib/python3.10/dist-packages (from tensorflow) (2.4.0)\n",
            "Requirement already satisfied: typing-extensions>=3.6.6 in /usr/local/lib/python3.10/dist-packages (from tensorflow) (4.5.0)\n",
            "Requirement already satisfied: wrapt<1.15,>=1.11.0 in /usr/local/lib/python3.10/dist-packages (from tensorflow) (1.14.1)\n",
            "Requirement already satisfied: tensorflow-io-gcs-filesystem>=0.23.1 in /usr/local/lib/python3.10/dist-packages (from tensorflow) (0.34.0)\n",
            "Requirement already satisfied: grpcio<2.0,>=1.24.3 in /usr/local/lib/python3.10/dist-packages (from tensorflow) (1.60.0)\n",
            "Requirement already satisfied: tensorboard<2.16,>=2.15 in /usr/local/lib/python3.10/dist-packages (from tensorflow) (2.15.1)\n",
            "Requirement already satisfied: tensorflow-estimator<2.16,>=2.15.0 in /usr/local/lib/python3.10/dist-packages (from tensorflow) (2.15.0)\n",
            "Requirement already satisfied: keras<2.16,>=2.15.0 in /usr/local/lib/python3.10/dist-packages (from tensorflow) (2.15.0)\n",
            "Requirement already satisfied: wheel<1.0,>=0.23.0 in /usr/local/lib/python3.10/dist-packages (from astunparse>=1.6.0->tensorflow) (0.42.0)\n",
            "Requirement already satisfied: google-auth<3,>=1.6.3 in /usr/local/lib/python3.10/dist-packages (from tensorboard<2.16,>=2.15->tensorflow) (2.17.3)\n",
            "Requirement already satisfied: google-auth-oauthlib<2,>=0.5 in /usr/local/lib/python3.10/dist-packages (from tensorboard<2.16,>=2.15->tensorflow) (1.2.0)\n",
            "Requirement already satisfied: markdown>=2.6.8 in /usr/local/lib/python3.10/dist-packages (from tensorboard<2.16,>=2.15->tensorflow) (3.5.1)\n",
            "Requirement already satisfied: requests<3,>=2.21.0 in /usr/local/lib/python3.10/dist-packages (from tensorboard<2.16,>=2.15->tensorflow) (2.31.0)\n",
            "Requirement already satisfied: tensorboard-data-server<0.8.0,>=0.7.0 in /usr/local/lib/python3.10/dist-packages (from tensorboard<2.16,>=2.15->tensorflow) (0.7.2)\n",
            "Requirement already satisfied: werkzeug>=1.0.1 in /usr/local/lib/python3.10/dist-packages (from tensorboard<2.16,>=2.15->tensorflow) (3.0.1)\n",
            "Requirement already satisfied: cachetools<6.0,>=2.0.0 in /usr/local/lib/python3.10/dist-packages (from google-auth<3,>=1.6.3->tensorboard<2.16,>=2.15->tensorflow) (5.3.2)\n",
            "Requirement already satisfied: pyasn1-modules>=0.2.1 in /usr/local/lib/python3.10/dist-packages (from google-auth<3,>=1.6.3->tensorboard<2.16,>=2.15->tensorflow) (0.3.0)\n",
            "Requirement already satisfied: rsa<5,>=3.1.4 in /usr/local/lib/python3.10/dist-packages (from google-auth<3,>=1.6.3->tensorboard<2.16,>=2.15->tensorflow) (4.9)\n",
            "Requirement already satisfied: requests-oauthlib>=0.7.0 in /usr/local/lib/python3.10/dist-packages (from google-auth-oauthlib<2,>=0.5->tensorboard<2.16,>=2.15->tensorflow) (1.3.1)\n",
            "Requirement already satisfied: charset-normalizer<4,>=2 in /usr/local/lib/python3.10/dist-packages (from requests<3,>=2.21.0->tensorboard<2.16,>=2.15->tensorflow) (3.3.2)\n",
            "Requirement already satisfied: idna<4,>=2.5 in /usr/local/lib/python3.10/dist-packages (from requests<3,>=2.21.0->tensorboard<2.16,>=2.15->tensorflow) (3.6)\n",
            "Requirement already satisfied: urllib3<3,>=1.21.1 in /usr/local/lib/python3.10/dist-packages (from requests<3,>=2.21.0->tensorboard<2.16,>=2.15->tensorflow) (2.0.7)\n",
            "Requirement already satisfied: certifi>=2017.4.17 in /usr/local/lib/python3.10/dist-packages (from requests<3,>=2.21.0->tensorboard<2.16,>=2.15->tensorflow) (2023.11.17)\n",
            "Requirement already satisfied: MarkupSafe>=2.1.1 in /usr/local/lib/python3.10/dist-packages (from werkzeug>=1.0.1->tensorboard<2.16,>=2.15->tensorflow) (2.1.3)\n",
            "Requirement already satisfied: pyasn1<0.6.0,>=0.4.6 in /usr/local/lib/python3.10/dist-packages (from pyasn1-modules>=0.2.1->google-auth<3,>=1.6.3->tensorboard<2.16,>=2.15->tensorflow) (0.5.1)\n",
            "Requirement already satisfied: oauthlib>=3.0.0 in /usr/local/lib/python3.10/dist-packages (from requests-oauthlib>=0.7.0->google-auth-oauthlib<2,>=0.5->tensorboard<2.16,>=2.15->tensorflow) (3.2.2)\n"
          ]
        }
      ]
    },
    {
      "cell_type": "code",
      "execution_count": null,
      "metadata": {
        "id": "p6Y6-5y1p1v-"
      },
      "outputs": [],
      "source": [
        "import numpy as np\n",
        "import tensorflow as tf\n",
        "from tensorflow.keras.preprocessing.text import one_hot\n",
        "from tensorflow.keras.preprocessing.sequence import pad_sequences\n",
        "from tensorflow.keras.models import Sequential\n",
        "from tensorflow.keras.layers import Dense\n",
        "from tensorflow.keras.layers import Flatten\n",
        "from tensorflow.keras.layers import Embedding"
      ]
    },
    {
      "cell_type": "code",
      "source": [
        "reviews=[\"Excellent service\",\n",
        "\"Fantastic experience\",\n",
        "\"Outstanding performance\",\n",
        "\"Terrible service\",\n",
        "\"Great ambiance\",\n",
        "\"Awful experience\",\n",
        "\"poor quality\",\n",
        "\"Disappointing service\",\n",
        "\"Fabulous ambiance\",\n",
        "\"amazing quality\"]\n",
        "sentiment = np.array([1,1,1,0,1,0,0,0,1,0])"
      ],
      "metadata": {
        "id": "9H2joYA_vk3Q"
      },
      "execution_count": null,
      "outputs": []
    },
    {
      "cell_type": "code",
      "source": [
        "one_hot(\"Excellent service\",30)"
      ],
      "metadata": {
        "colab": {
          "base_uri": "https://localhost:8080/"
        },
        "id": "H1QvjXr83kRw",
        "outputId": "fd1646b9-ae93-4886-8dc3-fd54ff3b9da1"
      },
      "execution_count": null,
      "outputs": [
        {
          "output_type": "execute_result",
          "data": {
            "text/plain": [
              "[18, 11]"
            ]
          },
          "metadata": {},
          "execution_count": 4
        }
      ]
    },
    {
      "cell_type": "code",
      "source": [
        "#performing one hot encoding\n",
        "vocab_size = 30\n",
        "encoded_reviews = [one_hot(d,vocab_size) for d in reviews]\n",
        "print(encoded_reviews)"
      ],
      "metadata": {
        "colab": {
          "base_uri": "https://localhost:8080/"
        },
        "id": "i65NV2Z6xvlx",
        "outputId": "e917af8b-6693-42f0-ac68-3ab3f0a989f4"
      },
      "execution_count": null,
      "outputs": [
        {
          "output_type": "stream",
          "name": "stdout",
          "text": [
            "[[18, 11], [28, 26], [23, 5], [24, 11], [8, 20], [2, 26], [23, 12], [17, 11], [9, 20], [17, 12]]\n"
          ]
        }
      ]
    },
    {
      "cell_type": "code",
      "source": [
        "#displaying padded sequence\n",
        "max_length= 3\n",
        "padded_reviews = pad_sequences(encoded_reviews,maxlen=max_length,padding='post')\n",
        "padded_reviews"
      ],
      "metadata": {
        "colab": {
          "base_uri": "https://localhost:8080/"
        },
        "id": "mWBAA9uDzJTX",
        "outputId": "51c6e187-880f-43e9-9046-d93855fcf290"
      },
      "execution_count": null,
      "outputs": [
        {
          "output_type": "execute_result",
          "data": {
            "text/plain": [
              "array([[18, 11,  0],\n",
              "       [28, 26,  0],\n",
              "       [23,  5,  0],\n",
              "       [24, 11,  0],\n",
              "       [ 8, 20,  0],\n",
              "       [ 2, 26,  0],\n",
              "       [23, 12,  0],\n",
              "       [17, 11,  0],\n",
              "       [ 9, 20,  0],\n",
              "       [17, 12,  0]], dtype=int32)"
            ]
          },
          "metadata": {},
          "execution_count": 6
        }
      ]
    },
    {
      "cell_type": "code",
      "source": [
        "embed_vec_size = 5 #embedded vector size\n",
        "#model building\n",
        "model = Sequential()\n",
        "model.add(Embedding(vocab_size, embed_vec_size, input_length=max_length,name=\"embedding\"))\n",
        "model.add(Flatten())\n",
        "model.add(Dense(1, activation='sigmoid'))"
      ],
      "metadata": {
        "id": "A-IA3wJf0mt7"
      },
      "execution_count": null,
      "outputs": []
    },
    {
      "cell_type": "code",
      "source": [
        "x = padded_reviews\n",
        "y= sentiment"
      ],
      "metadata": {
        "id": "88sSu2tM1PaH"
      },
      "execution_count": null,
      "outputs": []
    },
    {
      "cell_type": "code",
      "source": [
        "model.compile(optimizer='adam',loss='binary_crossentropy',metrics=['accuracy'])"
      ],
      "metadata": {
        "id": "rvY-bp231nmh"
      },
      "execution_count": null,
      "outputs": []
    },
    {
      "cell_type": "code",
      "source": [
        "model.fit(x,y,epochs=50,verbose=1)"
      ],
      "metadata": {
        "colab": {
          "base_uri": "https://localhost:8080/"
        },
        "id": "a92Wx4Zt14Iv",
        "outputId": "20e4e17f-34df-497f-dac6-d56eaa981146"
      },
      "execution_count": null,
      "outputs": [
        {
          "output_type": "stream",
          "name": "stdout",
          "text": [
            "Epoch 1/50\n",
            "1/1 [==============================] - 3s 3s/step - loss: 0.6940 - accuracy: 0.5000\n",
            "Epoch 2/50\n",
            "1/1 [==============================] - 0s 16ms/step - loss: 0.6930 - accuracy: 0.5000\n",
            "Epoch 3/50\n",
            "1/1 [==============================] - 0s 13ms/step - loss: 0.6920 - accuracy: 0.5000\n",
            "Epoch 4/50\n",
            "1/1 [==============================] - 0s 13ms/step - loss: 0.6910 - accuracy: 0.6000\n",
            "Epoch 5/50\n",
            "1/1 [==============================] - 0s 18ms/step - loss: 0.6899 - accuracy: 0.6000\n",
            "Epoch 6/50\n",
            "1/1 [==============================] - 0s 20ms/step - loss: 0.6889 - accuracy: 0.6000\n",
            "Epoch 7/50\n",
            "1/1 [==============================] - 0s 21ms/step - loss: 0.6879 - accuracy: 0.6000\n",
            "Epoch 8/50\n",
            "1/1 [==============================] - 0s 11ms/step - loss: 0.6869 - accuracy: 0.7000\n",
            "Epoch 9/50\n",
            "1/1 [==============================] - 0s 12ms/step - loss: 0.6859 - accuracy: 0.7000\n",
            "Epoch 10/50\n",
            "1/1 [==============================] - 0s 12ms/step - loss: 0.6849 - accuracy: 0.7000\n",
            "Epoch 11/50\n",
            "1/1 [==============================] - 0s 11ms/step - loss: 0.6839 - accuracy: 0.8000\n",
            "Epoch 12/50\n",
            "1/1 [==============================] - 0s 13ms/step - loss: 0.6829 - accuracy: 0.8000\n",
            "Epoch 13/50\n",
            "1/1 [==============================] - 0s 11ms/step - loss: 0.6818 - accuracy: 0.9000\n",
            "Epoch 14/50\n",
            "1/1 [==============================] - 0s 14ms/step - loss: 0.6808 - accuracy: 0.9000\n",
            "Epoch 15/50\n",
            "1/1 [==============================] - 0s 13ms/step - loss: 0.6798 - accuracy: 0.9000\n",
            "Epoch 16/50\n",
            "1/1 [==============================] - 0s 11ms/step - loss: 0.6788 - accuracy: 0.8000\n",
            "Epoch 17/50\n",
            "1/1 [==============================] - 0s 12ms/step - loss: 0.6778 - accuracy: 0.9000\n",
            "Epoch 18/50\n",
            "1/1 [==============================] - 0s 12ms/step - loss: 0.6767 - accuracy: 0.9000\n",
            "Epoch 19/50\n",
            "1/1 [==============================] - 0s 11ms/step - loss: 0.6757 - accuracy: 0.9000\n",
            "Epoch 20/50\n",
            "1/1 [==============================] - 0s 11ms/step - loss: 0.6747 - accuracy: 0.9000\n",
            "Epoch 21/50\n",
            "1/1 [==============================] - 0s 10ms/step - loss: 0.6736 - accuracy: 0.9000\n",
            "Epoch 22/50\n",
            "1/1 [==============================] - 0s 11ms/step - loss: 0.6726 - accuracy: 0.9000\n",
            "Epoch 23/50\n",
            "1/1 [==============================] - 0s 11ms/step - loss: 0.6715 - accuracy: 0.9000\n",
            "Epoch 24/50\n",
            "1/1 [==============================] - 0s 11ms/step - loss: 0.6705 - accuracy: 0.9000\n",
            "Epoch 25/50\n",
            "1/1 [==============================] - 0s 16ms/step - loss: 0.6694 - accuracy: 0.9000\n",
            "Epoch 26/50\n",
            "1/1 [==============================] - 0s 14ms/step - loss: 0.6683 - accuracy: 0.9000\n",
            "Epoch 27/50\n",
            "1/1 [==============================] - 0s 13ms/step - loss: 0.6672 - accuracy: 0.9000\n",
            "Epoch 28/50\n",
            "1/1 [==============================] - 0s 13ms/step - loss: 0.6661 - accuracy: 0.9000\n",
            "Epoch 29/50\n",
            "1/1 [==============================] - 0s 12ms/step - loss: 0.6650 - accuracy: 0.9000\n",
            "Epoch 30/50\n",
            "1/1 [==============================] - 0s 11ms/step - loss: 0.6639 - accuracy: 0.9000\n",
            "Epoch 31/50\n",
            "1/1 [==============================] - 0s 11ms/step - loss: 0.6627 - accuracy: 0.9000\n",
            "Epoch 32/50\n",
            "1/1 [==============================] - 0s 12ms/step - loss: 0.6616 - accuracy: 0.9000\n",
            "Epoch 33/50\n",
            "1/1 [==============================] - 0s 12ms/step - loss: 0.6605 - accuracy: 0.9000\n",
            "Epoch 34/50\n",
            "1/1 [==============================] - 0s 12ms/step - loss: 0.6593 - accuracy: 0.9000\n",
            "Epoch 35/50\n",
            "1/1 [==============================] - 0s 12ms/step - loss: 0.6581 - accuracy: 0.9000\n",
            "Epoch 36/50\n",
            "1/1 [==============================] - 0s 12ms/step - loss: 0.6570 - accuracy: 0.9000\n",
            "Epoch 37/50\n",
            "1/1 [==============================] - 0s 12ms/step - loss: 0.6558 - accuracy: 0.9000\n",
            "Epoch 38/50\n",
            "1/1 [==============================] - 0s 12ms/step - loss: 0.6546 - accuracy: 0.9000\n",
            "Epoch 39/50\n",
            "1/1 [==============================] - 0s 13ms/step - loss: 0.6534 - accuracy: 0.9000\n",
            "Epoch 40/50\n",
            "1/1 [==============================] - 0s 11ms/step - loss: 0.6522 - accuracy: 0.9000\n",
            "Epoch 41/50\n",
            "1/1 [==============================] - 0s 11ms/step - loss: 0.6510 - accuracy: 0.9000\n",
            "Epoch 42/50\n",
            "1/1 [==============================] - 0s 11ms/step - loss: 0.6497 - accuracy: 0.9000\n",
            "Epoch 43/50\n",
            "1/1 [==============================] - 0s 11ms/step - loss: 0.6485 - accuracy: 0.9000\n",
            "Epoch 44/50\n",
            "1/1 [==============================] - 0s 11ms/step - loss: 0.6473 - accuracy: 0.9000\n",
            "Epoch 45/50\n",
            "1/1 [==============================] - 0s 11ms/step - loss: 0.6460 - accuracy: 0.9000\n",
            "Epoch 46/50\n",
            "1/1 [==============================] - 0s 10ms/step - loss: 0.6447 - accuracy: 0.9000\n",
            "Epoch 47/50\n",
            "1/1 [==============================] - 0s 12ms/step - loss: 0.6435 - accuracy: 0.9000\n",
            "Epoch 48/50\n",
            "1/1 [==============================] - 0s 12ms/step - loss: 0.6422 - accuracy: 0.9000\n",
            "Epoch 49/50\n",
            "1/1 [==============================] - 0s 12ms/step - loss: 0.6409 - accuracy: 0.9000\n",
            "Epoch 50/50\n",
            "1/1 [==============================] - 0s 11ms/step - loss: 0.6396 - accuracy: 0.9000\n"
          ]
        },
        {
          "output_type": "execute_result",
          "data": {
            "text/plain": [
              "<keras.src.callbacks.History at 0x7ee503d49900>"
            ]
          },
          "metadata": {},
          "execution_count": 10
        }
      ]
    },
    {
      "cell_type": "code",
      "source": [
        "loss,accuracy = model.evaluate(x,y)"
      ],
      "metadata": {
        "id": "1fMYyvd02lZh",
        "colab": {
          "base_uri": "https://localhost:8080/"
        },
        "outputId": "68a4560f-d8de-406a-fbdd-40e685a41ed3"
      },
      "execution_count": null,
      "outputs": [
        {
          "output_type": "stream",
          "name": "stdout",
          "text": [
            "1/1 [==============================] - 0s 185ms/step - loss: 0.6383 - accuracy: 0.9000\n"
          ]
        }
      ]
    },
    {
      "cell_type": "code",
      "source": [
        "weights = model.get_layer('embedding').get_weights()"
      ],
      "metadata": {
        "id": "-5AMyz8AHbuk"
      },
      "execution_count": null,
      "outputs": []
    },
    {
      "cell_type": "code",
      "source": [
        "weights[0]"
      ],
      "metadata": {
        "colab": {
          "base_uri": "https://localhost:8080/"
        },
        "id": "A6Oj9OmAH2KB",
        "outputId": "1d2a4bac-bffb-4a3f-9a53-5f9cbf13c538"
      },
      "execution_count": null,
      "outputs": [
        {
          "output_type": "execute_result",
          "data": {
            "text/plain": [
              "array([[-0.02800043, -0.01254785, -0.03703916, -0.03130018,  0.02653105],\n",
              "       [-0.01250733, -0.01876465, -0.03970333,  0.04637993,  0.01122196],\n",
              "       [ 0.07875308,  0.04471827, -0.02714451, -0.01525501, -0.05667609],\n",
              "       [-0.0049072 , -0.01737433,  0.01942314, -0.02420144, -0.04617689],\n",
              "       [ 0.01325889, -0.04747982,  0.04612247,  0.00856377, -0.04930036],\n",
              "       [-0.07957656, -0.05366097, -0.05371282, -0.0515467 ,  0.07646959],\n",
              "       [-0.02765489, -0.029073  ,  0.02350515,  0.04218124, -0.01223867],\n",
              "       [-0.02341304, -0.03967687,  0.01214612, -0.00207806, -0.03393199],\n",
              "       [-0.09564057, -0.07289346,  0.09519091,  0.05588446,  0.0192086 ],\n",
              "       [-0.06308256, -0.09287415,  0.06131688,  0.07221243,  0.01371056],\n",
              "       [ 0.03414402,  0.02446849,  0.03613765, -0.02527571, -0.02609879],\n",
              "       [ 0.08158106,  0.06062861,  0.05997954,  0.03400161, -0.01703851],\n",
              "       [ 0.02449435,  0.03536711,  0.09495261,  0.08115345, -0.02208289],\n",
              "       [ 0.03958595, -0.0388371 ,  0.01675538, -0.04427029, -0.02685322],\n",
              "       [ 0.04161415,  0.01856526,  0.0235342 ,  0.02341372,  0.01202531],\n",
              "       [-0.00649949, -0.01919583, -0.02515745, -0.02127563,  0.03309606],\n",
              "       [-0.01900849, -0.02210536,  0.0337456 ,  0.03321907,  0.00957582],\n",
              "       [ 0.04844957,  0.08994282, -0.02186783, -0.04223398, -0.02741586],\n",
              "       [-0.05909502, -0.03349232,  0.10067291,  0.08045605,  0.06434861],\n",
              "       [ 0.02425511, -0.04275554, -0.02217038, -0.03434513, -0.00629907],\n",
              "       [-0.02280157, -0.0210151 , -0.053425  , -0.09655821,  0.04202659],\n",
              "       [-0.03157493,  0.03116152, -0.01166939,  0.00726552,  0.02221633],\n",
              "       [ 0.0379538 , -0.02084739,  0.03310106, -0.03489518,  0.00412471],\n",
              "       [-0.00786508,  0.00690998, -0.01032212, -0.04073047,  0.00184699],\n",
              "       [ 0.03510978,  0.04463435, -0.07717377, -0.05475291, -0.08829346],\n",
              "       [ 0.04082782,  0.02823807,  0.00894566, -0.03740114, -0.01914291],\n",
              "       [ 0.04058916, -0.02514856, -0.0349778 , -0.0197391 , -0.04324727],\n",
              "       [ 0.02969346, -0.00028576, -0.01660692, -0.0322732 , -0.03470597],\n",
              "       [-0.03249109, -0.06306366,  0.08715915,  0.02584356,  0.09552821],\n",
              "       [ 0.0108012 ,  0.0035985 ,  0.03816884, -0.03536614,  0.03995793]],\n",
              "      dtype=float32)"
            ]
          },
          "metadata": {},
          "execution_count": 14
        }
      ]
    },
    {
      "cell_type": "code",
      "source": [
        "pred = model.predict(x)"
      ],
      "metadata": {
        "colab": {
          "base_uri": "https://localhost:8080/"
        },
        "id": "F2H-5z6qKXDH",
        "outputId": "cb20c664-d8af-4897-d31a-a4f00b84bd16"
      },
      "execution_count": null,
      "outputs": [
        {
          "output_type": "stream",
          "name": "stdout",
          "text": [
            "1/1 [==============================] - 0s 71ms/step\n"
          ]
        }
      ]
    },
    {
      "cell_type": "code",
      "source": [
        "cm = tf.math.confusion_matrix(labels= y,predictions = pred)\n",
        "cm"
      ],
      "metadata": {
        "colab": {
          "base_uri": "https://localhost:8080/"
        },
        "id": "KABKQr3ZH6c4",
        "outputId": "caa4e2ac-a9fb-4d4f-f27c-4918c73375cf"
      },
      "execution_count": null,
      "outputs": [
        {
          "output_type": "execute_result",
          "data": {
            "text/plain": [
              "<tf.Tensor: shape=(2, 2), dtype=int32, numpy=\n",
              "array([[5, 0],\n",
              "       [5, 0]], dtype=int32)>"
            ]
          },
          "metadata": {},
          "execution_count": 19
        }
      ]
    },
    {
      "cell_type": "code",
      "source": [
        "import matplotlib.pyplot as plt"
      ],
      "metadata": {
        "id": "SVx48gDHKiCl"
      },
      "execution_count": null,
      "outputs": []
    },
    {
      "cell_type": "code",
      "source": [
        "import seaborn as sns\n",
        "plt.figure(figsize=(10,7))\n",
        "sns.heatmap(cm,annot=True,fmt='d')\n",
        "plt.ylabel('predicted')\n",
        "plt.xlabel('true values')"
      ],
      "metadata": {
        "colab": {
          "base_uri": "https://localhost:8080/",
          "height": 641
        },
        "id": "U4vtqy54IOGh",
        "outputId": "6c67d9b2-8a4d-47ca-9a0f-3c11f335de01"
      },
      "execution_count": null,
      "outputs": [
        {
          "output_type": "execute_result",
          "data": {
            "text/plain": [
              "Text(0.5, 47.7222222222222, 'true values')"
            ]
          },
          "metadata": {},
          "execution_count": 22
        },
        {
          "output_type": "display_data",
          "data": {
            "text/plain": [
              "<Figure size 1000x700 with 2 Axes>"
            ],
            "image/png": "[encoded data removed]"
          },
          "metadata": {}
        }
      ]
    },
    {
      "cell_type": "code",
      "source": [],
      "metadata": {
        "id": "3Vfq4qLSKmRK"
      },
      "execution_count": null,
      "outputs": []
    }
  ]
}